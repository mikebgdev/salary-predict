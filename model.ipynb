{
 "cells": [
  {
   "cell_type": "code",
   "execution_count": 1,
   "id": "initial_id",
   "metadata": {
    "collapsed": true,
    "ExecuteTime": {
     "end_time": "2024-01-15T18:54:15.345885640Z",
     "start_time": "2024-01-15T18:54:15.121972723Z"
    }
   },
   "outputs": [],
   "source": [
    "import pandas as pd\n",
    "from sklearn.model_selection import train_test_split\n",
    "from sklearn.compose import ColumnTransformer\n",
    "from sklearn.pipeline import Pipeline\n",
    "from sklearn.preprocessing import OneHotEncoder\n",
    "from sklearn.ensemble import RandomForestRegressor\n",
    "from sklearn.metrics import mean_squared_error\n",
    "from sklearn.metrics import r2_score\n",
    "\n",
    "import pickle\n",
    "import joblib"
   ]
  },
  {
   "cell_type": "markdown",
   "source": [
    "# Cargamos el dataset y modificamos la columna de Education Level"
   ],
   "metadata": {
    "collapsed": false
   },
   "id": "146eddd24e90a52"
  },
  {
   "cell_type": "code",
   "outputs": [],
   "source": [
    "dataset = pd.read_csv('dataset/Salary_Data.csv')\n",
    "dataset = dataset.dropna()"
   ],
   "metadata": {
    "collapsed": false,
    "ExecuteTime": {
     "end_time": "2024-01-15T18:54:15.387469542Z",
     "start_time": "2024-01-15T18:54:15.386526167Z"
    }
   },
   "id": "e929bfcbd642fd6a",
   "execution_count": 2
  },
  {
   "cell_type": "code",
   "outputs": [],
   "source": [
    "dataset[\"Education Level\"] = dataset[\"Education Level\"].str.lower()\n",
    "dataset[\"Education Level\"] = dataset[\"Education Level\"].map({\n",
    "    \"bachelor's degree\": \"Grado\", #Grado\n",
    "    \"master's degree\": \"Master\", #Master\n",
    "    \"phd\": \"Doctorado\", #Doctorado\n",
    "    \"bachelor's\": \"Grado\", #Grado\n",
    "    \"high school\": \"Bachillerato\", #Escuela secundaria / Bachillerato\n",
    "    \"master's\": \"Master\", #Master   \n",
    "}).astype(str)"
   ],
   "metadata": {
    "collapsed": false,
    "ExecuteTime": {
     "end_time": "2024-01-15T18:54:15.388135636Z",
     "start_time": "2024-01-15T18:54:15.386777635Z"
    }
   },
   "id": "5a7a32d7ad023f88",
   "execution_count": 3
  },
  {
   "cell_type": "code",
   "outputs": [],
   "source": [
    "X = dataset[['Education Level', 'Job Title', 'Age', 'Years of Experience']]\n",
    "y = dataset['Salary']\n",
    "\n",
    "X_train, X_test, y_train, y_test = train_test_split(X, y, test_size=0.2, random_state=42)"
   ],
   "metadata": {
    "collapsed": false,
    "ExecuteTime": {
     "end_time": "2024-01-15T18:54:15.388663184Z",
     "start_time": "2024-01-15T18:54:15.386903186Z"
    }
   },
   "id": "c83b0780b6435284",
   "execution_count": 4
  },
  {
   "cell_type": "markdown",
   "source": [
    "## OneHotEnconder\n",
    "OneHotEncoder convierte variables categóricas en una representación numérica binaria (1 o 0) para su uso en algoritmos de aprendizaje automático."
   ],
   "metadata": {
    "collapsed": false
   },
   "id": "ea15b649a88c38db"
  },
  {
   "cell_type": "code",
   "outputs": [
    {
     "data": {
      "text/plain": "['salary_prediction_model.joblib']"
     },
     "execution_count": 5,
     "metadata": {},
     "output_type": "execute_result"
    }
   ],
   "source": [
    "preprocessor = ColumnTransformer(\n",
    "    transformers=[\n",
    "        ('edu_job', OneHotEncoder(handle_unknown='ignore'), ['Education Level', 'Job Title'])\n",
    "    ],\n",
    "    remainder='passthrough'\n",
    ")\n",
    "\n",
    "model = RandomForestRegressor(n_estimators=100, random_state=42)\n",
    "\n",
    "pipeline = Pipeline([\n",
    "    ('preprocessor', preprocessor),\n",
    "    ('model', model)\n",
    "])\n",
    "\n",
    "pipeline.fit(X_train, y_train)\n",
    "\n",
    "y_pred = pipeline.predict(X_test)\n",
    "\n",
    "joblib.dump(pipeline, 'salary_prediction_model.joblib')"
   ],
   "metadata": {
    "collapsed": false,
    "ExecuteTime": {
     "end_time": "2024-01-15T18:54:17.516820473Z",
     "start_time": "2024-01-15T18:54:15.387008031Z"
    }
   },
   "id": "f950f96b30fef313",
   "execution_count": 5
  },
  {
   "cell_type": "markdown",
   "source": [
    "## Revisar prediiccion"
   ],
   "metadata": {
    "collapsed": false
   },
   "id": "588a4e4c033ac1b1"
  },
  {
   "cell_type": "code",
   "outputs": [
    {
     "name": "stdout",
     "output_type": "stream",
     "text": [
      "Mean Squared Error: 78014469.070767\n",
      "R^2 Score: 0.9726405106051327\n"
     ]
    }
   ],
   "source": [
    "mse = mean_squared_error(y_test, y_pred)\n",
    "r2 = r2_score(y_test, y_pred)\n",
    "\n",
    "print(f'Mean Squared Error: {mse}')\n",
    "print(f'R^2 Score: {r2}')\n"
   ],
   "metadata": {
    "collapsed": false,
    "ExecuteTime": {
     "end_time": "2024-01-15T18:54:17.517745004Z",
     "start_time": "2024-01-15T18:54:17.515059557Z"
    }
   },
   "id": "36013ccb0c1cfe89",
   "execution_count": 6
  },
  {
   "cell_type": "markdown",
   "source": [
    "## Pruebas de Prediccion"
   ],
   "metadata": {
    "collapsed": false
   },
   "id": "542c318b30ef194f"
  },
  {
   "cell_type": "code",
   "outputs": [
    {
     "name": "stdout",
     "output_type": "stream",
     "text": [
      "Education Level                      Master\n",
      "Job Title              Senior HR Generalist\n",
      "Age                                    39.0\n",
      "Years of Experience                    10.0\n",
      "Name: 3426, dtype: object\n",
      "Predicted Salary: 105000.0\n"
     ]
    }
   ],
   "source": [
    "new_data = pd.DataFrame([X_train.iloc[0]])\n",
    "\n",
    "print(X_train.iloc[0])\n",
    "\n",
    "prediction = pipeline.predict(new_data)\n",
    "\n",
    "print(f'Predicted Salary: {prediction[0]}')"
   ],
   "metadata": {
    "collapsed": false,
    "ExecuteTime": {
     "end_time": "2024-01-15T18:54:17.529028215Z",
     "start_time": "2024-01-15T18:54:17.518174265Z"
    }
   },
   "id": "63c675bccbbc70b4",
   "execution_count": 7
  },
  {
   "cell_type": "code",
   "outputs": [
    {
     "name": "stdout",
     "output_type": "stream",
     "text": [
      "Predicted Salary: [164313.82183908]\n"
     ]
    }
   ],
   "source": [
    "\n",
    "new_data = pd.DataFrame({\n",
    "    'Education Level': ['Bachillerato'],\n",
    "    'Job Title': ['Software Engineer'],\n",
    "    'Age': [29],\n",
    "    'Years of Experience': [7]\n",
    "})\n",
    "\n",
    "# Utilizar el pipeline para predecir el salario\n",
    "predicted_salary = pipeline.predict(new_data)\n",
    "\n",
    "# Imprimir el resultado\n",
    "print(f'Predicted Salary: {predicted_salary}')\n"
   ],
   "metadata": {
    "collapsed": false,
    "ExecuteTime": {
     "end_time": "2024-01-15T18:54:17.573642288Z",
     "start_time": "2024-01-15T18:54:17.535813188Z"
    }
   },
   "id": "ea80325185abb810",
   "execution_count": 8
  },
  {
   "cell_type": "markdown",
   "source": [
    "# Crear Pipeline Pickle\n"
   ],
   "metadata": {
    "collapsed": false
   },
   "id": "762b6989eb52c4f6"
  },
  {
   "cell_type": "code",
   "outputs": [],
   "source": [
    "with open('pickle/pipeline.pickle','wb') as f: #Abrimos archivo en modo escritura binaria\n",
    "    pickle.dump(pipeline, f) "
   ],
   "metadata": {
    "collapsed": false,
    "ExecuteTime": {
     "end_time": "2024-01-15T18:54:17.591629554Z",
     "start_time": "2024-01-15T18:54:17.539100857Z"
    }
   },
   "id": "db384e720b5eb79b",
   "execution_count": 9
  },
  {
   "cell_type": "markdown",
   "source": [
    "## Prueba del Pickle"
   ],
   "metadata": {
    "collapsed": false
   },
   "id": "cbf3b0e8a797b0a5"
  },
  {
   "cell_type": "code",
   "outputs": [
    {
     "data": {
      "text/plain": "array([164313.82183908])"
     },
     "execution_count": 10,
     "metadata": {},
     "output_type": "execute_result"
    }
   ],
   "source": [
    "with open('pickle/pipeline.pickle','rb') as f:\n",
    "    loaded_pipe = pickle.load(f)\n",
    "#comprobamos realizando una nueva predicción con el pipeline\n",
    "prediction = loaded_pipe.predict(new_data)\n",
    "prediction"
   ],
   "metadata": {
    "collapsed": false,
    "ExecuteTime": {
     "end_time": "2024-01-15T18:54:17.592241255Z",
     "start_time": "2024-01-15T18:54:17.583070109Z"
    }
   },
   "id": "70db3cd6692b5db1",
   "execution_count": 10
  },
  {
   "cell_type": "markdown",
   "source": [
    "# Exportar titulos trabajo"
   ],
   "metadata": {
    "collapsed": false
   },
   "id": "b80de565b1059e35"
  },
  {
   "cell_type": "code",
   "outputs": [
    {
     "data": {
      "text/plain": "Job Title\nAccount Manager               1\nAccountant                    1\nAdministrative Assistant      2\nBack end Developer          244\nBusiness Analyst              2\n                           ... \nUX Designer                   1\nUX Researcher                 1\nVP of Finance                 1\nVP of Operations              1\nWeb Developer                87\nLength: 191, dtype: int64"
     },
     "execution_count": 11,
     "metadata": {},
     "output_type": "execute_result"
    }
   ],
   "source": [
    "dataset.groupby('Job Title').size()\n"
   ],
   "metadata": {
    "collapsed": false,
    "ExecuteTime": {
     "end_time": "2024-01-15T18:54:17.592573845Z",
     "start_time": "2024-01-15T18:54:17.583195400Z"
    }
   },
   "id": "538712624fd787e4",
   "execution_count": 11
  },
  {
   "cell_type": "code",
   "outputs": [],
   "source": [
    "result_groupby = dataset.groupby('Job Title').size()\n",
    "\n",
    "# Guarda el resultado en un archivo pickle\n",
    "with open('pickle/jobs.pickle', 'wb') as f:\n",
    "    pickle.dump(result_groupby, f)"
   ],
   "metadata": {
    "collapsed": false,
    "ExecuteTime": {
     "end_time": "2024-01-15T18:54:17.592809499Z",
     "start_time": "2024-01-15T18:54:17.583265430Z"
    }
   },
   "id": "6e662624b728091",
   "execution_count": 12
  },
  {
   "cell_type": "code",
   "outputs": [],
   "source": [],
   "metadata": {
    "collapsed": false,
    "ExecuteTime": {
     "end_time": "2024-01-15T18:54:17.593048056Z",
     "start_time": "2024-01-15T18:54:17.588250707Z"
    }
   },
   "id": "14b813b7b40c020",
   "execution_count": 12
  }
 ],
 "metadata": {
  "kernelspec": {
   "display_name": "Python 3",
   "language": "python",
   "name": "python3"
  },
  "language_info": {
   "codemirror_mode": {
    "name": "ipython",
    "version": 2
   },
   "file_extension": ".py",
   "mimetype": "text/x-python",
   "name": "python",
   "nbconvert_exporter": "python",
   "pygments_lexer": "ipython2",
   "version": "2.7.6"
  }
 },
 "nbformat": 4,
 "nbformat_minor": 5
}
